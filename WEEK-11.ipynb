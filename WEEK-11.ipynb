{
 "cells": [
  {
   "cell_type": "code",
   "execution_count": 3,
   "id": "26d92156",
   "metadata": {},
   "outputs": [],
   "source": [
    "import numpy as np\n",
    "import pandas as pd\n",
    "from numpy import log2 as log\n",
    "eps = np.finfo(float).eps"
   ]
  },
  {
   "cell_type": "markdown",
   "id": "287ad062",
   "metadata": {},
   "source": [
    "eps’ here is the smallest representable number. At times we get log(0) or 0 in the denominator, to avoid that we are going to use this."
   ]
  },
  {
   "cell_type": "markdown",
   "id": "5cd629e2",
   "metadata": {},
   "source": [
    "USING ID3"
   ]
  },
  {
   "cell_type": "code",
   "execution_count": 37,
   "id": "9f14974f",
   "metadata": {},
   "outputs": [
    {
     "name": "stdout",
     "output_type": "stream",
     "text": [
      "     Outlook  Temp  Humidity    Wind Decision\n",
      "0      Sunny    85        85    Weak       No\n",
      "1      Sunny    80        90  Strong       No\n",
      "2   Overcast    83        78    Weak      Yes\n",
      "3       Rain    70        96    Weak      Yes\n",
      "4       Rain    68        80    Weak      Yes\n",
      "5       Rain    65        70  Strong       No\n",
      "6   Overcast    64        65  Strong      Yes\n",
      "7      Sunny    72        95    Weak       No\n",
      "8      Sunny    69        70    Weak      Yes\n",
      "9       Rain    75        80    Weak      Yes\n",
      "10     Sunny    75        70  Strong      Yes\n",
      "11  Overcast    72        90  Strong      Yes\n",
      "12  Overcast    81        75    Weak      Yes\n",
      "13      Rain    71        80  Strong       No\n"
     ]
    }
   ],
   "source": [
    "df = pd.read_csv('weather.csv')\n",
    "df=df.drop(columns=['Day'])\n",
    "print(df)"
   ]
  },
  {
   "cell_type": "markdown",
   "id": "f5f4042e",
   "metadata": {},
   "source": [
    "1. claculate entropy o the whole dataset"
   ]
  },
  {
   "cell_type": "code",
   "execution_count": 38,
   "id": "9f1fcfd4",
   "metadata": {},
   "outputs": [],
   "source": [
    "def find_entropy(df):\n",
    "    Class = df.keys()[-1]   #To make the code generic, changing target variable class name\n",
    "    entropy_node = 0  #Initialize Entropy\n",
    "    values = df[Class].unique()  #Unique objects - 'Yes', 'No'\n",
    "    for value in values:\n",
    "        fraction = df[Class].value_counts()[value]/len(df.Decision)  \n",
    "        entropy_node += -fraction*np.log2(fraction)\n",
    "    print(f\"Entropy_Node-> {entropy_node}\")\n",
    "    return(entropy_node)"
   ]
  },
  {
   "cell_type": "markdown",
   "id": "a800a653",
   "metadata": {},
   "source": [
    "2 .Now define a function {ent} to calculate entropy of each attribute :"
   ]
  },
  {
   "cell_type": "code",
   "execution_count": 39,
   "id": "e11aac7b",
   "metadata": {},
   "outputs": [],
   "source": [
    "def ent(df,attribute):\n",
    "    target_variables = df.Decision.unique()  #This gives all 'Yes' and 'No'\n",
    "    variables = df[attribute].unique()    #This gives different features in that attribute (like 'Sweet')\n",
    "\n",
    "\n",
    "    entropy_attribute = 0\n",
    "    for variable in variables:\n",
    "        entropy_each_feature = 0\n",
    "        for target_variable in target_variables:\n",
    "            num = len(df[attribute][df[attribute]==variable][df.Decision ==target_variable]) #numerator\n",
    "            den = len(df[attribute][df[attribute]==variable])  #denominator\n",
    "            fraction = num/(den+eps)  #pi\n",
    "            entropy_each_feature += -fraction*log(fraction+eps) #This calculates entropy for one feature like 'Sweet'\n",
    "        fraction2 = den/len(df)\n",
    "        entropy_attribute += -fraction2*entropy_each_feature   #Sums up all the entropy ETaste\n",
    "\n",
    "    return(abs(entropy_attribute))"
   ]
  },
  {
   "cell_type": "markdown",
   "id": "610cde08",
   "metadata": {},
   "source": [
    "find_entropy_attribute"
   ]
  },
  {
   "cell_type": "code",
   "execution_count": 40,
   "id": "eb42547e",
   "metadata": {},
   "outputs": [],
   "source": [
    "def find_entropy_attribute(df,attribute):\n",
    "  Class = df.keys()[-1]   #To make the code generic, changing target variable class name\n",
    "  target_variables = df[Class].unique()  #This gives all 'Yes' and 'No'\n",
    "  variables = df[attribute].unique()    #This gives different features in that attribute (like 'Hot','Cold' in Temperature)\n",
    "  entropy2 = 0\n",
    "  for variable in variables:\n",
    "      entropy = 0\n",
    "      for target_variable in target_variables:\n",
    "          num = len(df[attribute][df[attribute]==variable][df[Class] ==target_variable])\n",
    "          den = len(df[attribute][df[attribute]==variable])\n",
    "          fraction = num/(den+eps)\n",
    "          entropy += -fraction*log(fraction+eps)\n",
    "      fraction2 = den/len(df)\n",
    "      entropy2 += -fraction2*entropy\n",
    "  return abs(entropy2)"
   ]
  },
  {
   "cell_type": "markdown",
   "id": "23df5317",
   "metadata": {},
   "source": [
    "find_winner"
   ]
  },
  {
   "cell_type": "code",
   "execution_count": 41,
   "id": "6cc2a5cd",
   "metadata": {},
   "outputs": [],
   "source": [
    "def find_winner(df):\n",
    "    Entropy_att = []\n",
    "    IG = []\n",
    "    for key in df.keys()[:-1]:#Entropy_att.append(find_entropy_attribute(df,key))\n",
    "        IG.append(find_entropy(df)-find_entropy_attribute(df,key))\n",
    "    return df.keys()[:-1][np.argmax(IG)]"
   ]
  },
  {
   "cell_type": "markdown",
   "id": "eccb04cc",
   "metadata": {},
   "source": [
    "get_subtable"
   ]
  },
  {
   "cell_type": "code",
   "execution_count": 42,
   "id": "6c14c4ee",
   "metadata": {},
   "outputs": [],
   "source": [
    "def get_subtable(df, node,value):\n",
    "  return df[df[node] == value].reset_index(drop=True)\n"
   ]
  },
  {
   "cell_type": "markdown",
   "id": "8e83b13d",
   "metadata": {},
   "source": [
    "Build a Tree"
   ]
  },
  {
   "cell_type": "code",
   "execution_count": 43,
   "id": "65e45a7d",
   "metadata": {},
   "outputs": [],
   "source": [
    "def buildTree(df,tree=None): \n",
    "    Class = df.keys()[-1]   #To make the code generic, changing target variable class name\n",
    "    \n",
    "    #Here we build our decision tree\n",
    "\n",
    "    #Get attribute with maximum information gain\n",
    "    node = find_winner(df)\n",
    "    \n",
    "    #Get distinct value of that attribute e.g Salary is node and Low,Med and High are values\n",
    "    attValue = np.unique(df[node])\n",
    "    \n",
    "    #Create an empty dictionary to create tree    \n",
    "    if tree is None:                    \n",
    "        tree={}\n",
    "        tree[node] = {}\n",
    "    \n",
    "   #We make loop to construct a tree by calling this function recursively. \n",
    "    #In this we check if the subset is pure and stops if it is pure. \n",
    "\n",
    "    for value in attValue:\n",
    "        \n",
    "        subtable = get_subtable(df,node,value)\n",
    "        clValue,counts = np.unique(subtable[Class],return_counts=True)                        \n",
    "        \n",
    "        if len(counts)==1:#Checking purity of subset\n",
    "            tree[node][value] = clValue[0]                                                    \n",
    "        else:        \n",
    "            tree[node][value] = buildTree(subtable) #Calling the function recursively \n",
    "                   \n",
    "    return tree\n",
    "  "
   ]
  },
  {
   "cell_type": "markdown",
   "id": "65461277",
   "metadata": {},
   "source": [
    "Final Output"
   ]
  },
  {
   "cell_type": "code",
   "execution_count": 44,
   "id": "cb44e290",
   "metadata": {},
   "outputs": [
    {
     "name": "stdout",
     "output_type": "stream",
     "text": [
      "Entropy_Node-> 0.9402859586706311\n",
      "Entropy_Node-> 0.9402859586706311\n",
      "Entropy_Node-> 0.9402859586706311\n",
      "Entropy_Node-> 0.9402859586706311\n",
      "Entropy_Node-> 1.0\n",
      "Entropy_Node-> 1.0\n",
      "Entropy_Node-> 1.0\n",
      "Entropy_Node-> 1.0\n",
      "{'Temp': {64: 'Yes',\n",
      "          65: 'No',\n",
      "          68: 'Yes',\n",
      "          69: 'Yes',\n",
      "          70: 'Yes',\n",
      "          71: 'No',\n",
      "          72: {'Outlook': {'Overcast': 'Yes', 'Sunny': 'No'}},\n",
      "          75: 'Yes',\n",
      "          80: 'No',\n",
      "          81: 'Yes',\n",
      "          83: 'Yes',\n",
      "          85: 'No'}}\n"
     ]
    }
   ],
   "source": [
    "import pprint\n",
    "T= buildTree(df)\n",
    "pprint.pprint(T)"
   ]
  },
  {
   "cell_type": "markdown",
   "id": "b56c39c2",
   "metadata": {},
   "source": [
    "USING CART ALGORITHM "
   ]
  },
  {
   "cell_type": "code",
   "execution_count": 51,
   "id": "1735b3b8",
   "metadata": {},
   "outputs": [
    {
     "data": {
      "text/html": [
       "<div>\n",
       "<style scoped>\n",
       "    .dataframe tbody tr th:only-of-type {\n",
       "        vertical-align: middle;\n",
       "    }\n",
       "\n",
       "    .dataframe tbody tr th {\n",
       "        vertical-align: top;\n",
       "    }\n",
       "\n",
       "    .dataframe thead th {\n",
       "        text-align: right;\n",
       "    }\n",
       "</style>\n",
       "<table border=\"1\" class=\"dataframe\">\n",
       "  <thead>\n",
       "    <tr style=\"text-align: right;\">\n",
       "      <th></th>\n",
       "      <th>Outlook</th>\n",
       "      <th>Temp</th>\n",
       "      <th>Humidity</th>\n",
       "      <th>Wind</th>\n",
       "      <th>Decision</th>\n",
       "    </tr>\n",
       "  </thead>\n",
       "  <tbody>\n",
       "    <tr>\n",
       "      <th>0</th>\n",
       "      <td>Sunny</td>\n",
       "      <td>85</td>\n",
       "      <td>85</td>\n",
       "      <td>Weak</td>\n",
       "      <td>No</td>\n",
       "    </tr>\n",
       "    <tr>\n",
       "      <th>1</th>\n",
       "      <td>Sunny</td>\n",
       "      <td>80</td>\n",
       "      <td>90</td>\n",
       "      <td>Strong</td>\n",
       "      <td>No</td>\n",
       "    </tr>\n",
       "    <tr>\n",
       "      <th>2</th>\n",
       "      <td>Overcast</td>\n",
       "      <td>83</td>\n",
       "      <td>78</td>\n",
       "      <td>Weak</td>\n",
       "      <td>Yes</td>\n",
       "    </tr>\n",
       "    <tr>\n",
       "      <th>3</th>\n",
       "      <td>Rain</td>\n",
       "      <td>70</td>\n",
       "      <td>96</td>\n",
       "      <td>Weak</td>\n",
       "      <td>Yes</td>\n",
       "    </tr>\n",
       "    <tr>\n",
       "      <th>4</th>\n",
       "      <td>Rain</td>\n",
       "      <td>68</td>\n",
       "      <td>80</td>\n",
       "      <td>Weak</td>\n",
       "      <td>Yes</td>\n",
       "    </tr>\n",
       "    <tr>\n",
       "      <th>5</th>\n",
       "      <td>Rain</td>\n",
       "      <td>65</td>\n",
       "      <td>70</td>\n",
       "      <td>Strong</td>\n",
       "      <td>No</td>\n",
       "    </tr>\n",
       "    <tr>\n",
       "      <th>6</th>\n",
       "      <td>Overcast</td>\n",
       "      <td>64</td>\n",
       "      <td>65</td>\n",
       "      <td>Strong</td>\n",
       "      <td>Yes</td>\n",
       "    </tr>\n",
       "    <tr>\n",
       "      <th>7</th>\n",
       "      <td>Sunny</td>\n",
       "      <td>72</td>\n",
       "      <td>95</td>\n",
       "      <td>Weak</td>\n",
       "      <td>No</td>\n",
       "    </tr>\n",
       "    <tr>\n",
       "      <th>8</th>\n",
       "      <td>Sunny</td>\n",
       "      <td>69</td>\n",
       "      <td>70</td>\n",
       "      <td>Weak</td>\n",
       "      <td>Yes</td>\n",
       "    </tr>\n",
       "    <tr>\n",
       "      <th>9</th>\n",
       "      <td>Rain</td>\n",
       "      <td>75</td>\n",
       "      <td>80</td>\n",
       "      <td>Weak</td>\n",
       "      <td>Yes</td>\n",
       "    </tr>\n",
       "    <tr>\n",
       "      <th>10</th>\n",
       "      <td>Sunny</td>\n",
       "      <td>75</td>\n",
       "      <td>70</td>\n",
       "      <td>Strong</td>\n",
       "      <td>Yes</td>\n",
       "    </tr>\n",
       "    <tr>\n",
       "      <th>11</th>\n",
       "      <td>Overcast</td>\n",
       "      <td>72</td>\n",
       "      <td>90</td>\n",
       "      <td>Strong</td>\n",
       "      <td>Yes</td>\n",
       "    </tr>\n",
       "    <tr>\n",
       "      <th>12</th>\n",
       "      <td>Overcast</td>\n",
       "      <td>81</td>\n",
       "      <td>75</td>\n",
       "      <td>Weak</td>\n",
       "      <td>Yes</td>\n",
       "    </tr>\n",
       "    <tr>\n",
       "      <th>13</th>\n",
       "      <td>Rain</td>\n",
       "      <td>71</td>\n",
       "      <td>80</td>\n",
       "      <td>Strong</td>\n",
       "      <td>No</td>\n",
       "    </tr>\n",
       "  </tbody>\n",
       "</table>\n",
       "</div>"
      ],
      "text/plain": [
       "     Outlook  Temp  Humidity    Wind Decision\n",
       "0      Sunny    85        85    Weak       No\n",
       "1      Sunny    80        90  Strong       No\n",
       "2   Overcast    83        78    Weak      Yes\n",
       "3       Rain    70        96    Weak      Yes\n",
       "4       Rain    68        80    Weak      Yes\n",
       "5       Rain    65        70  Strong       No\n",
       "6   Overcast    64        65  Strong      Yes\n",
       "7      Sunny    72        95    Weak       No\n",
       "8      Sunny    69        70    Weak      Yes\n",
       "9       Rain    75        80    Weak      Yes\n",
       "10     Sunny    75        70  Strong      Yes\n",
       "11  Overcast    72        90  Strong      Yes\n",
       "12  Overcast    81        75    Weak      Yes\n",
       "13      Rain    71        80  Strong       No"
      ]
     },
     "execution_count": 51,
     "metadata": {},
     "output_type": "execute_result"
    }
   ],
   "source": [
    "df = pd.read_csv('weather.csv')\n",
    "df=df.drop(columns=['Day'])\n",
    "df"
   ]
  },
  {
   "cell_type": "code",
   "execution_count": 52,
   "id": "42f1092d",
   "metadata": {},
   "outputs": [
    {
     "name": "stdout",
     "output_type": "stream",
     "text": [
      "Predicted decision: Yes\n"
     ]
    }
   ],
   "source": [
    "data=pd.read_csv('weather.csv')\n",
    "data=data.drop(columns=['Day'])\n",
    "attributes = data.columns[1:-1]  \n",
    "target_attribute = 'Decision'\n",
    "class Node:\n",
    "    def __init__(self, attribute=None, value=None, result=None):\n",
    "        self.attribute = attribute\n",
    "        self.value = value\n",
    "        self.result = result\n",
    "        self.children = {}\n",
    "def gini_impurity(data, target_attribute):\n",
    "    value_counts = data[target_attribute].value_counts()\n",
    "    total = len(data)\n",
    "    impurity = 1\n",
    "    for value_count in value_counts:\n",
    "        probability = value_count / total\n",
    "        impurity -= probability ** 2\n",
    "    return impurity\n",
    "\n",
    "def gini_impurity_gain(data, attribute, target_attribute):\n",
    "    impurity_before = gini_impurity(data, target_attribute)\n",
    "    values, counts = np.unique(data[attribute], return_counts=True)\n",
    "    impurity_after = 0\n",
    "    for value, count in zip(values, counts):\n",
    "        subset = data[data[attribute] == value]\n",
    "        impurity_after += (count / len(data)) * gini_impurity(subset, target_attribute)\n",
    "    return impurity_before - impurity_after\n",
    "\n",
    "def cart(data, attributes, target_attribute):\n",
    "    if len(np.unique(data[target_attribute])) == 1:\n",
    "        return Node(result=data[target_attribute].iloc[0])\n",
    "\n",
    "    if len(attributes) == 0:\n",
    "        most_common = data[target_attribute].value_counts().idxmax()\n",
    "        return Node(result=most_common)\n",
    "\n",
    "    best_attribute = max(attributes, key=lambda a: gini_impurity_gain(data, a, target_attribute))\n",
    "    tree = Node(attribute=best_attribute)\n",
    "\n",
    "    values = np.unique(data[best_attribute])\n",
    "    for value in values:\n",
    "        subset = data[data[best_attribute] == value]\n",
    "        if len(subset) == 0:\n",
    "            most_common = data[target_attribute].value_counts().idxmax()\n",
    "            tree.children[value] = Node(result=most_common)\n",
    "        else:\n",
    "            remaining_attributes = [a for a in attributes if a != best_attribute]\n",
    "            tree.children[value] = cart(subset, remaining_attributes, target_attribute)\n",
    "\n",
    "    return tree\n",
    "\n",
    "tree = cart(data, attributes, target_attribute)\n",
    "\n",
    "new_sample = pd.Series({'Outlook': 'Sunny', 'Temp': 69, 'Humidity': 80, 'Wind': 'Strong'})\n",
    "\n",
    "def classify(tree, sample):\n",
    "    if tree.result is not None:\n",
    "        return tree.result\n",
    "    attribute_value = sample[tree.attribute]\n",
    "    if attribute_value in tree.children:\n",
    "        return classify(tree.children[attribute_value], sample)\n",
    "\n",
    "result = classify(tree, new_sample)\n",
    "print(\"Predicted decision:\", result)"
   ]
  },
  {
   "cell_type": "markdown",
   "id": "99843fda",
   "metadata": {},
   "source": [
    "USING C4.5"
   ]
  },
  {
   "cell_type": "code",
   "execution_count": 56,
   "id": "90e4e077",
   "metadata": {},
   "outputs": [
    {
     "name": "stdout",
     "output_type": "stream",
     "text": [
      "Predicted decision: No\n"
     ]
    }
   ],
   "source": [
    "def information_gain(data, attribute, target_attribute):\n",
    "    total_entropy =  find_entropy_attribute(data, target_attribute)\n",
    "    values, counts = np.unique(data[attribute], return_counts=True)\n",
    "    weighted_entropy = 0\n",
    "    for value, count in zip(values, counts):\n",
    "        subset = data[data[attribute] == value]\n",
    "        weighted_entropy += (count / len(data)) *  find_entropy_attribute(subset, target_attribute)\n",
    "    return total_entropy - weighted_entropy\n",
    "\n",
    "def c45(data, attributes, target_attribute, parent_data, parent_value=None):\n",
    "    if len(np.unique(data[target_attribute])) == 1:\n",
    "        return Node(result=data[target_attribute].iloc[0])\n",
    "\n",
    "    if len(attributes) == 0:\n",
    "        most_common = data[target_attribute].value_counts().idxmax()\n",
    "        return Node(result=most_common)\n",
    "\n",
    "    best_attribute = max(attributes, key=lambda a: information_gain(data, a, target_attribute))\n",
    "    tree = Node(attribute=best_attribute)\n",
    "\n",
    "    values = np.unique(data[best_attribute])\n",
    "    for value in values:\n",
    "        subset = data[data[best_attribute] == value]\n",
    "        if len(subset) == 0:\n",
    "            most_common = data[target_attribute].value_counts().idxmax()\n",
    "            tree.children[value] = Node(result=most_common)\n",
    "        else:\n",
    "            remaining_attributes = [a for a in attributes if a != best_attribute]\n",
    "            tree.children[value] = c45(subset, remaining_attributes, target_attribute, data, value)\n",
    "\n",
    "    return tree\n",
    "\n",
    "data = pd.read_csv('weather.csv')\n",
    "\n",
    "attributes = data.columns[1:-1]  \n",
    "target_attribute = 'Decision'\n",
    "\n",
    "tree = c45(data, attributes, target_attribute, None)\n",
    "\n",
    "new_sample = pd.Series({'Outlook': 'Sunny', 'Temp': 85, 'Humidity': 85, 'Wind': 'Weak'})\n",
    "\n",
    "def classify(tree, sample, parent_value=None):\n",
    "    if tree.result is not None:\n",
    "        return tree.result\n",
    "    attribute_value = sample[tree.attribute]\n",
    "    if attribute_value in tree.children:\n",
    "        return classify(tree.children[attribute_value], sample, attribute_value)\n",
    "    else:\n",
    "        # If the attribute value is not found, use the parent's value if available\n",
    "        if parent_value is not None:\n",
    "            return classify(tree.children[parent_value], sample, parent_value)\n",
    "        else:\n",
    "            most_common = data[target_attribute].value_counts().idxmax()\n",
    "            return most_common\n",
    "\n",
    "result = classify(tree, new_sample)\n",
    "print(\"Predicted decision:\", result)\n"
   ]
  },
  {
   "cell_type": "code",
   "execution_count": null,
   "id": "8dcaa5a8",
   "metadata": {},
   "outputs": [],
   "source": []
  }
 ],
 "metadata": {
  "kernelspec": {
   "display_name": "Python 3 (ipykernel)",
   "language": "python",
   "name": "python3"
  },
  "language_info": {
   "codemirror_mode": {
    "name": "ipython",
    "version": 3
   },
   "file_extension": ".py",
   "mimetype": "text/x-python",
   "name": "python",
   "nbconvert_exporter": "python",
   "pygments_lexer": "ipython3",
   "version": "3.10.12"
  }
 },
 "nbformat": 4,
 "nbformat_minor": 5
}
